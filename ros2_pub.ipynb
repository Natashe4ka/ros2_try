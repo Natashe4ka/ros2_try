{
 "cells": [
  {
   "cell_type": "code",
   "execution_count": 9,
   "metadata": {},
   "outputs": [],
   "source": [
    "import rclpy\n",
    "from rclpy.node import Node\n",
    "\n",
    "from std_msgs.msg import String\n",
    "\n",
    "import time"
   ]
  },
  {
   "cell_type": "code",
   "execution_count": 14,
   "metadata": {},
   "outputs": [
    {
     "ename": "RuntimeError",
     "evalue": "Context.init() must only be called once",
     "output_type": "error",
     "traceback": [
      "\u001b[0;31m---------------------------------------------------------------------------\u001b[0m",
      "\u001b[0;31mRuntimeError\u001b[0m                              Traceback (most recent call last)",
      "Cell \u001b[0;32mIn[14], line 1\u001b[0m\n\u001b[0;32m----> 1\u001b[0m rclpy\u001b[39m.\u001b[39;49minit()\n\u001b[1;32m      2\u001b[0m nd \u001b[39m=\u001b[39m Node(\u001b[39m'\u001b[39m\u001b[39mminimal_publisher\u001b[39m\u001b[39m'\u001b[39m)\n\u001b[1;32m      3\u001b[0m pub \u001b[39m=\u001b[39m nd\u001b[39m.\u001b[39mcreate_publisher(String, \u001b[39m'\u001b[39m\u001b[39mtopic\u001b[39m\u001b[39m'\u001b[39m, \u001b[39m10\u001b[39m)\n",
      "File \u001b[0;32m/opt/ros/humble/local/lib/python3.10/dist-packages/rclpy/__init__.py:89\u001b[0m, in \u001b[0;36minit\u001b[0;34m(args, context, domain_id, signal_handler_options)\u001b[0m\n\u001b[1;32m     87\u001b[0m         signal_handler_options \u001b[39m=\u001b[39m SignalHandlerOptions\u001b[39m.\u001b[39mNO\n\u001b[1;32m     88\u001b[0m install_signal_handlers(signal_handler_options)\n\u001b[0;32m---> 89\u001b[0m \u001b[39mreturn\u001b[39;00m context\u001b[39m.\u001b[39;49minit(args, domain_id\u001b[39m=\u001b[39;49mdomain_id)\n",
      "File \u001b[0;32m/opt/ros/humble/local/lib/python3.10/dist-packages/rclpy/context.py:70\u001b[0m, in \u001b[0;36mContext.init\u001b[0;34m(self, args, initialize_logging, domain_id)\u001b[0m\n\u001b[1;32m     65\u001b[0m     \u001b[39mraise\u001b[39;00m \u001b[39mRuntimeError\u001b[39;00m(\n\u001b[1;32m     66\u001b[0m         \u001b[39m'\u001b[39m\u001b[39mDomain id (\u001b[39m\u001b[39m{}\u001b[39;00m\u001b[39m) should not be lower than zero.\u001b[39m\u001b[39m'\u001b[39m\n\u001b[1;32m     67\u001b[0m         \u001b[39m.\u001b[39mformat(domain_id))\n\u001b[1;32m     69\u001b[0m \u001b[39mif\u001b[39;00m \u001b[39mself\u001b[39m\u001b[39m.\u001b[39m__context \u001b[39mis\u001b[39;00m \u001b[39mnot\u001b[39;00m \u001b[39mNone\u001b[39;00m:\n\u001b[0;32m---> 70\u001b[0m     \u001b[39mraise\u001b[39;00m \u001b[39mRuntimeError\u001b[39;00m(\u001b[39m'\u001b[39m\u001b[39mContext.init() must only be called once\u001b[39m\u001b[39m'\u001b[39m)\n\u001b[1;32m     72\u001b[0m \u001b[39mself\u001b[39m\u001b[39m.\u001b[39m__context \u001b[39m=\u001b[39m _rclpy\u001b[39m.\u001b[39mContext(\n\u001b[1;32m     73\u001b[0m     args \u001b[39mif\u001b[39;00m args \u001b[39mis\u001b[39;00m \u001b[39mnot\u001b[39;00m \u001b[39mNone\u001b[39;00m \u001b[39melse\u001b[39;00m sys\u001b[39m.\u001b[39margv,\n\u001b[1;32m     74\u001b[0m     domain_id \u001b[39mif\u001b[39;00m domain_id \u001b[39mis\u001b[39;00m \u001b[39mnot\u001b[39;00m \u001b[39mNone\u001b[39;00m \u001b[39melse\u001b[39;00m _rclpy\u001b[39m.\u001b[39mRCL_DEFAULT_DOMAIN_ID)\n\u001b[1;32m     75\u001b[0m \u001b[39mif\u001b[39;00m initialize_logging \u001b[39mand\u001b[39;00m \u001b[39mnot\u001b[39;00m \u001b[39mself\u001b[39m\u001b[39m.\u001b[39m_logging_initialized:\n",
      "\u001b[0;31mRuntimeError\u001b[0m: Context.init() must only be called once"
     ]
    }
   ],
   "source": [
    "rclpy.init()\n",
    "nd = Node('minimal_publisher')\n",
    "pub = nd.create_publisher(String, 'topic', 10)\n",
    "msg = String()\n",
    "msg.name = \"hello world\"\n",
    "while True:\n",
    "    time.sleep(1)\n",
    "    pub.publish(msg)"
   ]
  },
  {
   "cell_type": "code",
   "execution_count": 8,
   "metadata": {},
   "outputs": [
    {
     "ename": "RuntimeError",
     "evalue": "Context.init() must only be called once",
     "output_type": "error",
     "traceback": [
      "\u001b[0;31m---------------------------------------------------------------------------\u001b[0m",
      "\u001b[0;31mRuntimeError\u001b[0m                              Traceback (most recent call last)",
      "Cell \u001b[0;32mIn[8], line 33\u001b[0m\n\u001b[1;32m     29\u001b[0m     rclpy\u001b[39m.\u001b[39mshutdown()\n\u001b[1;32m     32\u001b[0m \u001b[39mif\u001b[39;00m \u001b[39m__name__\u001b[39m \u001b[39m==\u001b[39m \u001b[39m'\u001b[39m\u001b[39m__main__\u001b[39m\u001b[39m'\u001b[39m:\n\u001b[0;32m---> 33\u001b[0m     main()\n",
      "Cell \u001b[0;32mIn[8], line 19\u001b[0m, in \u001b[0;36mmain\u001b[0;34m(args)\u001b[0m\n\u001b[1;32m     18\u001b[0m \u001b[39mdef\u001b[39;00m \u001b[39mmain\u001b[39m(args\u001b[39m=\u001b[39m\u001b[39mNone\u001b[39;00m):\n\u001b[0;32m---> 19\u001b[0m     rclpy\u001b[39m.\u001b[39;49minit(args\u001b[39m=\u001b[39;49margs)\n\u001b[1;32m     21\u001b[0m     minimal_publisher \u001b[39m=\u001b[39m MinimalPublisher()\n\u001b[1;32m     23\u001b[0m     rclpy\u001b[39m.\u001b[39mspin(minimal_publisher)\n",
      "File \u001b[0;32m/opt/ros/humble/local/lib/python3.10/dist-packages/rclpy/__init__.py:89\u001b[0m, in \u001b[0;36minit\u001b[0;34m(args, context, domain_id, signal_handler_options)\u001b[0m\n\u001b[1;32m     87\u001b[0m         signal_handler_options \u001b[39m=\u001b[39m SignalHandlerOptions\u001b[39m.\u001b[39mNO\n\u001b[1;32m     88\u001b[0m install_signal_handlers(signal_handler_options)\n\u001b[0;32m---> 89\u001b[0m \u001b[39mreturn\u001b[39;00m context\u001b[39m.\u001b[39;49minit(args, domain_id\u001b[39m=\u001b[39;49mdomain_id)\n",
      "File \u001b[0;32m/opt/ros/humble/local/lib/python3.10/dist-packages/rclpy/context.py:70\u001b[0m, in \u001b[0;36mContext.init\u001b[0;34m(self, args, initialize_logging, domain_id)\u001b[0m\n\u001b[1;32m     65\u001b[0m     \u001b[39mraise\u001b[39;00m \u001b[39mRuntimeError\u001b[39;00m(\n\u001b[1;32m     66\u001b[0m         \u001b[39m'\u001b[39m\u001b[39mDomain id (\u001b[39m\u001b[39m{}\u001b[39;00m\u001b[39m) should not be lower than zero.\u001b[39m\u001b[39m'\u001b[39m\n\u001b[1;32m     67\u001b[0m         \u001b[39m.\u001b[39mformat(domain_id))\n\u001b[1;32m     69\u001b[0m \u001b[39mif\u001b[39;00m \u001b[39mself\u001b[39m\u001b[39m.\u001b[39m__context \u001b[39mis\u001b[39;00m \u001b[39mnot\u001b[39;00m \u001b[39mNone\u001b[39;00m:\n\u001b[0;32m---> 70\u001b[0m     \u001b[39mraise\u001b[39;00m \u001b[39mRuntimeError\u001b[39;00m(\u001b[39m'\u001b[39m\u001b[39mContext.init() must only be called once\u001b[39m\u001b[39m'\u001b[39m)\n\u001b[1;32m     72\u001b[0m \u001b[39mself\u001b[39m\u001b[39m.\u001b[39m__context \u001b[39m=\u001b[39m _rclpy\u001b[39m.\u001b[39mContext(\n\u001b[1;32m     73\u001b[0m     args \u001b[39mif\u001b[39;00m args \u001b[39mis\u001b[39;00m \u001b[39mnot\u001b[39;00m \u001b[39mNone\u001b[39;00m \u001b[39melse\u001b[39;00m sys\u001b[39m.\u001b[39margv,\n\u001b[1;32m     74\u001b[0m     domain_id \u001b[39mif\u001b[39;00m domain_id \u001b[39mis\u001b[39;00m \u001b[39mnot\u001b[39;00m \u001b[39mNone\u001b[39;00m \u001b[39melse\u001b[39;00m _rclpy\u001b[39m.\u001b[39mRCL_DEFAULT_DOMAIN_ID)\n\u001b[1;32m     75\u001b[0m \u001b[39mif\u001b[39;00m initialize_logging \u001b[39mand\u001b[39;00m \u001b[39mnot\u001b[39;00m \u001b[39mself\u001b[39m\u001b[39m.\u001b[39m_logging_initialized:\n",
      "\u001b[0;31mRuntimeError\u001b[0m: Context.init() must only be called once"
     ]
    }
   ],
   "source": [
    "class MinimalPublisher(Node):\n",
    "\n",
    "    def __init__(self):\n",
    "        super().__init__('minimal_publisher')\n",
    "        self.publisher_ = self.create_publisher(String, 'topic', 10)\n",
    "        timer_period = 0.5  # seconds\n",
    "        self.timer = self.create_timer(timer_period, self.timer_callback)\n",
    "        self.i = 0\n",
    "\n",
    "    def timer_callback(self):\n",
    "        msg = String()\n",
    "        msg.data = 'Hello World: %d' % self.i\n",
    "        self.publisher_.publish(msg)\n",
    "        self.get_logger().info('Publishing: \"%s\"' % msg.data)\n",
    "        self.i += 1\n",
    "\n",
    "\n",
    "def main(args=None):\n",
    "    rclpy.init(args=args)\n",
    "\n",
    "    minimal_publisher = MinimalPublisher()\n",
    "\n",
    "    rclpy.spin(minimal_publisher)\n",
    "\n",
    "    # Destroy the node explicitly\n",
    "    # (optional - otherwise it will be done automatically\n",
    "    # when the garbage collector destroys the node object)\n",
    "    minimal_publisher.destroy_node()\n",
    "    rclpy.shutdown()\n",
    "\n",
    "\n",
    "if __name__ == '__main__':\n",
    "    main()"
   ]
  }
 ],
 "metadata": {
  "kernelspec": {
   "display_name": "Python 3",
   "language": "python",
   "name": "python3"
  },
  "language_info": {
   "codemirror_mode": {
    "name": "ipython",
    "version": 3
   },
   "file_extension": ".py",
   "mimetype": "text/x-python",
   "name": "python",
   "nbconvert_exporter": "python",
   "pygments_lexer": "ipython3",
   "version": "3.10.6"
  },
  "orig_nbformat": 4
 },
 "nbformat": 4,
 "nbformat_minor": 2
}
